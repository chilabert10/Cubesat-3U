{
 "cells": [
  {
   "cell_type": "code",
   "execution_count": 1,
   "id": "5d2dcd57",
   "metadata": {},
   "outputs": [],
   "source": [
    "import sympy as sp\n",
    "from sympy import atan , sqrt , log , cos , pi\n",
    "from sympy import simplify"
   ]
  },
  {
   "cell_type": "code",
   "execution_count": 2,
   "id": "218df5fc",
   "metadata": {},
   "outputs": [],
   "source": [
    "# Define job symbols\n",
    "alpha = sp.Symbol('alpha')\n",
    "theta = sp.Symbol('theta')\n"
   ]
  },
  {
   "cell_type": "code",
   "execution_count": 3,
   "id": "93f79f67",
   "metadata": {},
   "outputs": [
    {
     "data": {
      "text/latex": [
       "$\\displaystyle \\frac{1}{\\left(\\alpha^{2} + \\theta^{2}\\right)^{2}}$"
      ],
      "text/plain": [
       "(alpha**2 + theta**2)**(-2)"
      ]
     },
     "execution_count": 3,
     "metadata": {},
     "output_type": "execute_result"
    }
   ],
   "source": [
    "# Define the f_x function\n",
    "f_x = 1/(alpha**2+ theta**2)**2\n",
    "f_x"
   ]
  },
  {
   "cell_type": "code",
   "execution_count": 4,
   "id": "b87373ca",
   "metadata": {},
   "outputs": [],
   "source": [
    "# Define job symbols\n",
    "u = sp.Symbol('u')"
   ]
  },
  {
   "cell_type": "code",
   "execution_count": 5,
   "id": "b22cf74d",
   "metadata": {},
   "outputs": [
    {
     "data": {
      "text/latex": [
       "$\\displaystyle \\frac{\\frac{u}{2} + \\frac{\\sin{\\left(u \\right)} \\cos{\\left(u \\right)}}{2}}{\\theta^{3}}$"
      ],
      "text/plain": [
       "(u/2 + sin(u)*cos(u)/2)/theta**3"
      ]
     },
     "execution_count": 5,
     "metadata": {},
     "output_type": "execute_result"
    }
   ],
   "source": [
    "# Calculation of the antiderivative F_x\n",
    "F_x = theta*sp.integrate((cos(u)**2)/theta**4, u)\n",
    "F_x"
   ]
  },
  {
   "cell_type": "code",
   "execution_count": 7,
   "id": "e01f3f97",
   "metadata": {},
   "outputs": [
    {
     "data": {
      "text/latex": [
       "$\\displaystyle \\frac{\\theta \\log{\\left(\\alpha^{2} + \\theta^{2} \\right)}}{2}$"
      ],
      "text/plain": [
       "theta*log(alpha**2 + theta**2)/2"
      ]
     },
     "execution_count": 7,
     "metadata": {},
     "output_type": "execute_result"
    }
   ],
   "source": [
    "# Calculation of the antiderivative F_xi\n",
    "F_xi_1 = sp.integrate((theta*alpha)/(theta**2+ alpha**2) , alpha)\n",
    "F_xi_1\n",
    "\n"
   ]
  },
  {
   "cell_type": "code",
   "execution_count": 8,
   "id": "e0639f26",
   "metadata": {},
   "outputs": [
    {
     "data": {
      "text/latex": [
       "$\\displaystyle \\alpha \\operatorname{atan}{\\left(\\frac{\\alpha}{\\theta} \\right)} - \\frac{\\theta \\log{\\left(\\alpha^{2} + \\theta^{2} \\right)}}{2}$"
      ],
      "text/plain": [
       "alpha*atan(alpha/theta) - theta*log(alpha**2 + theta**2)/2"
      ]
     },
     "execution_count": 8,
     "metadata": {},
     "output_type": "execute_result"
    }
   ],
   "source": [
    "F_xi_2 = sp.integrate(atan(alpha/theta) , alpha)\n",
    "F_xi_2"
   ]
  },
  {
   "cell_type": "code",
   "execution_count": 9,
   "id": "c650f10d",
   "metadata": {},
   "outputs": [
    {
     "data": {
      "text/latex": [
       "$\\displaystyle - \\alpha \\operatorname{atan}{\\left(\\frac{\\alpha}{\\theta} \\right)}$"
      ],
      "text/plain": [
       "-alpha*atan(alpha/theta)"
      ]
     },
     "execution_count": 9,
     "metadata": {},
     "output_type": "execute_result"
    }
   ],
   "source": [
    "##\n",
    "F_xi = -(F_xi_1 + F_xi_2 )\n",
    "F_xi\n"
   ]
  },
  {
   "cell_type": "code",
   "execution_count": 10,
   "id": "1e749ff3",
   "metadata": {},
   "outputs": [],
   "source": [
    "# Define job symbols\n",
    "Z = sp.Symbol('Z')\n",
    "y = sp.Symbol('y')\n",
    "eta = sp.Symbol('eta')\n"
   ]
  },
  {
   "cell_type": "code",
   "execution_count": 11,
   "id": "9a0fd777",
   "metadata": {},
   "outputs": [
    {
     "data": {
      "text/latex": [
       "$\\displaystyle \\frac{\\alpha \\operatorname{atan}{\\left(\\frac{\\alpha}{\\theta} \\right)}}{\\theta^{3}}$"
      ],
      "text/plain": [
       "alpha*atan(alpha/theta)/theta**3"
      ]
     },
     "execution_count": 11,
     "metadata": {},
     "output_type": "execute_result"
    }
   ],
   "source": [
    "# define fy as a function of alpha and theta .\n",
    "f_y = (alpha/theta**3)*atan(alpha/theta)\n",
    "f_y\n",
    "\n"
   ]
  },
  {
   "cell_type": "code",
   "execution_count": 12,
   "id": "469b6b4c",
   "metadata": {},
   "outputs": [
    {
     "data": {
      "text/latex": [
       "$\\displaystyle \\frac{\\alpha \\operatorname{atan}{\\left(\\frac{\\alpha}{\\sqrt{Z^{2} + \\left(- \\eta + y\\right)^{2}}} \\right)}}{\\left(Z^{2} + \\left(- \\eta + y\\right)^{2}\\right)^{1.5}}$"
      ],
      "text/plain": [
       "alpha*(Z**2 + (-eta + y)**2)**(-1.5)*atan(alpha/sqrt(Z**2 + (-eta + y)**2))"
      ]
     },
     "execution_count": 12,
     "metadata": {},
     "output_type": "execute_result"
    }
   ],
   "source": [
    "fy = (1/( Z**2+(y - eta )**2)**(3/2))*alpha*atan(alpha/sqrt(Z**2+( y - eta )**2) )\n",
    "fy"
   ]
  },
  {
   "cell_type": "code",
   "execution_count": 13,
   "id": "b0ba0f8a",
   "metadata": {},
   "outputs": [],
   "source": [
    "# We evaluate the integral using Wolfram :\n",
    "# Wolfram Language code :\n",
    "# <br > Integrate [ ArcTan [a/ Sqrt [Z^2 + (y - n) ^2]]/( Z^2 + (y -n)^2) ^(3/2) , y]\n",
    "#Calculation of the antiderivative F_eta"
   ]
  },
  {
   "cell_type": "code",
   "execution_count": 14,
   "id": "97dda2ff",
   "metadata": {},
   "outputs": [
    {
     "data": {
      "text/latex": [
       "$\\displaystyle \\eta \\operatorname{atan}{\\left(\\frac{\\eta}{\\sqrt{Z^{2} + \\alpha^{2}}} - \\frac{y}{\\sqrt{Z^{2} + \\alpha^{2}}} \\right)} - y \\operatorname{atan}{\\left(\\frac{\\eta}{\\sqrt{Z^{2} + \\alpha^{2}}} - \\frac{y}{\\sqrt{Z^{2} + \\alpha^{2}}} \\right)} - \\frac{\\sqrt{Z^{2} + \\alpha^{2}} \\log{\\left(Z^{2} + \\alpha^{2} + \\eta^{2} - 2 \\eta y + y^{2} \\right)}}{2}$"
      ],
      "text/plain": [
       "eta*atan(eta/sqrt(Z**2 + alpha**2) - y/sqrt(Z**2 + alpha**2)) - y*atan(eta/sqrt(Z**2 + alpha**2) - y/sqrt(Z**2 + alpha**2)) - sqrt(Z**2 + alpha**2)*log(Z**2 + alpha**2 + eta**2 - 2*eta*y + y**2)/2"
      ]
     },
     "execution_count": 14,
     "metadata": {},
     "output_type": "execute_result"
    }
   ],
   "source": [
    "# We define the integral fe1:\n",
    "fe1 = sp.integrate(atan(( eta - y )/sqrt(alpha**2+ Z**2)), eta )\n",
    "fe1\n",
    "\n"
   ]
  },
  {
   "cell_type": "code",
   "execution_count": 15,
   "id": "f7c23925",
   "metadata": {},
   "outputs": [
    {
     "data": {
      "text/latex": [
       "$\\displaystyle \\frac{\\alpha \\log{\\left(Z^{2} + \\alpha^{2} + w^{2} \\right)}}{2} + \\sqrt{Z^{2} + w^{2}} \\operatorname{atan}{\\left(\\frac{\\alpha}{\\sqrt{Z^{2} + w^{2}}} \\right)}$"
      ],
      "text/plain": [
       "alpha*log(Z**2 + alpha**2 + w**2)/2 + sqrt(Z**2 + w**2)*atan(alpha/sqrt(Z**2 + w**2))"
      ]
     },
     "execution_count": 15,
     "metadata": {},
     "output_type": "execute_result"
    }
   ],
   "source": [
    "w = sp.Symbol('w')\n",
    "# We define the integral fe2:\n",
    "fe2 = sp.integrate(( w*atan( alpha/sqrt( w**2+ Z**2)))/(sqrt(w**2+ Z**2)) ,w )\n",
    "fe2"
   ]
  },
  {
   "cell_type": "code",
   "execution_count": 16,
   "id": "dd8ca72d",
   "metadata": {},
   "outputs": [
    {
     "data": {
      "text/latex": [
       "$\\displaystyle - \\frac{Z \\log{\\left(Z^{2} + \\eta^{2} - 2 \\eta y + y^{2} \\right)}}{2} + \\eta \\operatorname{atan}{\\left(\\frac{\\eta}{Z} - \\frac{y}{Z} \\right)} - y \\operatorname{atan}{\\left(\\frac{\\eta}{Z} - \\frac{y}{Z} \\right)}$"
      ],
      "text/plain": [
       "-Z*log(Z**2 + eta**2 - 2*eta*y + y**2)/2 + eta*atan(eta/Z - y/Z) - y*atan(eta/Z - y/Z)"
      ]
     },
     "execution_count": 16,
     "metadata": {},
     "output_type": "execute_result"
    }
   ],
   "source": [
    "# we define the integral fe3:\n",
    "fe3 = sp.integrate(atan(( eta - y )/( Z )) , eta)\n",
    "fe3"
   ]
  },
  {
   "cell_type": "code",
   "execution_count": 17,
   "id": "3f4819da",
   "metadata": {},
   "outputs": [
    {
     "data": {
      "text/latex": [
       "$\\displaystyle Z \\left(- \\frac{Z \\log{\\left(Z^{2} + \\eta^{2} - 2 \\eta y + y^{2} \\right)}}{2} + \\eta \\operatorname{atan}{\\left(\\frac{\\eta}{Z} - \\frac{y}{Z} \\right)} - y \\operatorname{atan}{\\left(\\frac{\\eta}{Z} - \\frac{y}{Z} \\right)}\\right) - \\alpha \\left(\\frac{\\alpha \\log{\\left(Z^{2} + \\alpha^{2} + w^{2} \\right)}}{2} + \\sqrt{Z^{2} + w^{2}} \\operatorname{atan}{\\left(\\frac{\\alpha}{\\sqrt{Z^{2} + w^{2}}} \\right)}\\right) - \\sqrt{Z^{2} + \\alpha^{2}} \\left(\\eta \\operatorname{atan}{\\left(\\frac{\\eta}{\\sqrt{Z^{2} + \\alpha^{2}}} - \\frac{y}{\\sqrt{Z^{2} + \\alpha^{2}}} \\right)} - y \\operatorname{atan}{\\left(\\frac{\\eta}{\\sqrt{Z^{2} + \\alpha^{2}}} - \\frac{y}{\\sqrt{Z^{2} + \\alpha^{2}}} \\right)} - \\frac{\\sqrt{Z^{2} + \\alpha^{2}} \\log{\\left(Z^{2} + \\alpha^{2} + \\eta^{2} - 2 \\eta y + y^{2} \\right)}}{2}\\right)$"
      ],
      "text/plain": [
       "Z*(-Z*log(Z**2 + eta**2 - 2*eta*y + y**2)/2 + eta*atan(eta/Z - y/Z) - y*atan(eta/Z - y/Z)) - alpha*(alpha*log(Z**2 + alpha**2 + w**2)/2 + sqrt(Z**2 + w**2)*atan(alpha/sqrt(Z**2 + w**2))) - sqrt(Z**2 + alpha**2)*(eta*atan(eta/sqrt(Z**2 + alpha**2) - y/sqrt(Z**2 + alpha**2)) - y*atan(eta/sqrt(Z**2 + alpha**2) - y/sqrt(Z**2 + alpha**2)) - sqrt(Z**2 + alpha**2)*log(Z**2 + alpha**2 + eta**2 - 2*eta*y + y**2)/2)"
      ]
     },
     "execution_count": 17,
     "metadata": {},
     "output_type": "execute_result"
    }
   ],
   "source": [
    "# We calculate the antiderivative of eta:\n",
    "Fe = -( sqrt ( alpha**2+ Z**2) )*fe1 - alpha*fe2 + Z*fe3\n",
    "Fe"
   ]
  },
  {
   "cell_type": "code",
   "execution_count": 18,
   "id": "ef05130a",
   "metadata": {},
   "outputs": [
    {
     "data": {
      "text/latex": [
       "$\\displaystyle \\frac{Z \\left(Z \\log{\\left(Z^{2} + \\eta^{2} - 2 \\eta y + y^{2} \\right)} - 2 \\eta \\operatorname{atan}{\\left(\\frac{\\eta - y}{Z} \\right)} + 2 y \\operatorname{atan}{\\left(\\frac{\\eta - y}{Z} \\right)}\\right) + \\alpha \\left(\\alpha \\log{\\left(Z^{2} + \\alpha^{2} + w^{2} \\right)} + 2 \\sqrt{Z^{2} + w^{2}} \\operatorname{atan}{\\left(\\frac{\\alpha}{\\sqrt{Z^{2} + w^{2}}} \\right)}\\right) + \\sqrt{Z^{2} + \\alpha^{2}} \\left(2 \\eta \\operatorname{atan}{\\left(\\frac{\\eta - y}{\\sqrt{Z^{2} + \\alpha^{2}}} \\right)} - 2 y \\operatorname{atan}{\\left(\\frac{\\eta - y}{\\sqrt{Z^{2} + \\alpha^{2}}} \\right)} - \\sqrt{Z^{2} + \\alpha^{2}} \\log{\\left(Z^{2} + \\alpha^{2} + \\eta^{2} - 2 \\eta y + y^{2} \\right)}\\right)}{4 \\pi}$"
      ],
      "text/plain": [
       "(Z*(Z*log(Z**2 + eta**2 - 2*eta*y + y**2) - 2*eta*atan((eta - y)/Z) + 2*y*atan((eta - y)/Z)) + alpha*(alpha*log(Z**2 + alpha**2 + w**2) + 2*sqrt(Z**2 + w**2)*atan(alpha/sqrt(Z**2 + w**2))) + sqrt(Z**2 + alpha**2)*(2*eta*atan((eta - y)/sqrt(Z**2 + alpha**2)) - 2*y*atan((eta - y)/sqrt(Z**2 + alpha**2)) - sqrt(Z**2 + alpha**2)*log(Z**2 + alpha**2 + eta**2 - 2*eta*y + y**2)))/(4*pi)"
      ]
     },
     "execution_count": 18,
     "metadata": {},
     "output_type": "execute_result"
    }
   ],
   "source": [
    "# Solution\n",
    "# Therefore the product of area 1 by the View Factor\n",
    "# that goes from area 1 to area 2 is given by:\n",
    "F = ( -1/(2*pi ) )*Fe\n",
    "simplify(F)\n"
   ]
  },
  {
   "cell_type": "code",
   "execution_count": null,
   "id": "ff2a7546",
   "metadata": {},
   "outputs": [],
   "source": []
  }
 ],
 "metadata": {
  "kernelspec": {
   "display_name": "Python 3",
   "language": "python",
   "name": "python3"
  },
  "language_info": {
   "codemirror_mode": {
    "name": "ipython",
    "version": 3
   },
   "file_extension": ".py",
   "mimetype": "text/x-python",
   "name": "python",
   "nbconvert_exporter": "python",
   "pygments_lexer": "ipython3",
   "version": "3.8.8"
  }
 },
 "nbformat": 4,
 "nbformat_minor": 5
}
